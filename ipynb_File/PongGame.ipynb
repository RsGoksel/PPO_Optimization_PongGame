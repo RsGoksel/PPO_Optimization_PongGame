{
 "cells": [
  {
   "cell_type": "markdown",
   "id": "72a116bf-f0c7-4172-833f-cf0d090757e6",
   "metadata": {},
   "source": [
    "LIBRARIES ↓"
   ]
  },
  {
   "cell_type": "code",
   "execution_count": null,
   "id": "7c3cb82f-6987-4ee2-81aa-a85e92bc09c3",
   "metadata": {
    "tags": []
   },
   "outputs": [],
   "source": [
    "import gym\n",
    "from gym import spaces\n",
    "\n",
    "from pygame.locals import *\n",
    "\n",
    "import pygame\n",
    "import random\n",
    "import numpy as np\n",
    "import os"
   ]
  },
  {
   "cell_type": "markdown",
   "id": "307eb13b-5ee1-4ada-8135-5efe5edfe2c6",
   "metadata": {},
   "source": [
    "CONSTANT VALUES ↓"
   ]
  },
  {
   "cell_type": "code",
   "execution_count": null,
   "id": "5cdaee1e-78e4-473a-9283-654021ae2665",
   "metadata": {
    "tags": []
   },
   "outputs": [],
   "source": [
    "WIDTH = 900\n",
    "HEIGHT = 900\n",
    "\n",
    "MIDDLE = HEIGHT * 0.5 # Middle of paddle, or which area you want to focus and train for\n",
    "\n",
    "black = (0,0,0)\n",
    "red = (255,0,0)\n",
    "blue = (50,0,200)\n",
    "\n",
    "BALL_Xspeed = 3\n",
    "BALL_Yspeed = 3\n",
    "\n",
    "# Screen\n",
    "WIDTH, HEIGHT =  Constants.WIDTH, Constants.HEIGHT\n",
    "\n",
    "# Paddle \n",
    "P_WIDTH, P_HEIGHT = Constants.PADDLE_WIDTH, Constants.PADDLE_HEIGHT\n",
    "MOVE_COEF = Constants.MOVE_COEF # Paddle Speed Coefficient "
   ]
  },
  {
   "cell_type": "markdown",
   "id": "038406bb-31b1-4975-9010-2aa6f1e643b2",
   "metadata": {},
   "source": [
    "IMPLEMENTING PADDLE CLASS ↓"
   ]
  },
  {
   "cell_type": "code",
   "execution_count": null,
   "id": "5cb030d1-51e3-40de-b8e0-1bac07da4f7f",
   "metadata": {
    "tags": []
   },
   "outputs": [],
   "source": [
    "\n",
    "class Paddle(pygame.sprite.Sprite):\n",
    "    def __init__(self,color):\n",
    "        pygame.sprite.Sprite.__init__(self)\n",
    "        \n",
    "        #Constant values for their ratio\n",
    "        self.image = pygame.Surface([P_WIDTH, P_HEIGHT])\n",
    "        self.image.fill(color)\n",
    "        self.rect = self.image.get_rect()\n",
    "          \n",
    "    def Move(self, action):\n",
    "        \n",
    "        \"\"\"\n",
    "        Action:\n",
    "            0: Rise up\n",
    "            1: Hold\n",
    "            2: get down\n",
    "        \"\"\"\n",
    "        if action == 0:\n",
    "            self.rect.y -= MOVE_COEF\n",
    "        if action == 1:\n",
    "            #paddleY.rect.y = paddleY.rect.y\n",
    "            pass\n",
    "        if action == 2:\n",
    "            self.rect.y += MOVE_COEF\n",
    "\n",
    "        \"\"\"\n",
    "        w/numpy it could be \n",
    "        self.rect.y  = np.clip(self.rect.y, 0, HEIGHT - P_HEIGHT)\n",
    "        \"\"\"\n",
    "        #Keep the paddle in boundries\n",
    "        if self.rect.y < 0:  \n",
    "            self.rect.y = 0\n",
    "\n",
    "        if self.rect.y > HEIGHT - P_HEIGHT: \n",
    "            self.rect.y = HEIGHT - P_HEIGHT\n",
    "\n",
    "        return self.rect.y"
   ]
  },
  {
   "cell_type": "markdown",
   "id": "d82eb21f-97c6-4f2e-8b17-1aa7e480d1ee",
   "metadata": {},
   "source": [
    "SETTING the ENVIRONMENT UP ↓"
   ]
  },
  {
   "cell_type": "code",
   "execution_count": null,
   "id": "9e3fb88f-af64-443e-8cc3-b89e93bbcf0a",
   "metadata": {
    "tags": []
   },
   "outputs": [],
   "source": [
    "class PongEnv(gym.Env):\n",
    "  \n",
    "    class Ball(pygame.sprite.Sprite):\n",
    "        def __init__(self):\n",
    "            pygame.sprite.Sprite.__init__(self)\n",
    "            self.image = pygame.Surface([WIDTH*0.01,WIDTH*0.01])\n",
    "            self.image.fill(red)\n",
    "            self.rect = self.image.get_rect()\n",
    "            self.Xspeed = BALL_Xspeed\n",
    "            self.Yspeed = BALL_Yspeed\n",
    "        \n",
    "        #Restrict the Ball within screen boundries and reflect it \n",
    "        def clip(self):\n",
    "            \n",
    "                # WIDTH*0.01 is size of the ball. Checking if ball in boundries\n",
    "            if self.rect.y > HEIGHT - WIDTH*0.01 or self.rect.y < WIDTH*0.01: \n",
    "                 self.Yspeed *= -1\n",
    "        \n",
    "            if self.rect.x <= WIDTH*0.01 or self.rect.x >= WIDTH - WIDTH*0.01:  #  self.rect.x >= WIDTH*0.99  \n",
    "                return True\n",
    "            \n",
    "            \n",
    "    def __init__(self):\n",
    "         \n",
    "        super(PongEnv, self).__init__()\n",
    "        \n",
    "        self.screen = pygame.display.set_mode((WIDTH, HEIGHT))\n",
    "        pygame.init()\n",
    "        \n",
    "        self.reward = 0\n",
    "        self.done = False\n",
    "        \n",
    "        self.action_space = spaces.Discrete(3) # Up, hold, down\n",
    "        self.observation_space = spaces.Box(low=-1, high=1,\n",
    "                                            shape=(6,), dtype=np.float32)\n",
    "        \"\"\"\n",
    "        observation_space:\n",
    "            Euclidean_distance_Agent-bal\n",
    "            Agent_Y_Coord\n",
    "            Agent_X_Coord\n",
    "            Ball_Y_Coord\n",
    "            Ball_X_Coord\n",
    "            Ball_Velocity \n",
    "        \"\"\"\n",
    "        self.Agent = Paddle(\"Blue\")\n",
    "        self.Bot   = Paddle(\"Red\")\n",
    "        \n",
    "        self.BALL = self.Ball() #fix this\n",
    "        \n",
    "        # Getting the current_distance Initially\n",
    "        self.current_distance = self.Distance_Between_Paddle_Ball()\n",
    "    \n",
    "        self.all_sprites = pygame.sprite.Group()\n",
    "        self.all_sprites.add(self.Agent, self.Bot, self.BALL)\n",
    "        \n",
    "        self.info = {}\n",
    "        self.reset()\n",
    "        \n",
    "    def step(self, action):\n",
    "        \n",
    "        \"\"\"\n",
    "        Action:\n",
    "            0: Rise up\n",
    "            1: Hold\n",
    "            2: get down\n",
    "        \"\"\"\n",
    "        self.render()\n",
    "        self.reward = 0\n",
    "        \n",
    "        self.Agent.Move(action)\n",
    "\n",
    "            # Move the ball\n",
    "        self.BALL.rect.x += self.BALL.Xspeed\n",
    "        self.BALL.rect.y += self.BALL.Yspeed \n",
    "\n",
    "            # The bot will track the ball's exact position.\n",
    "        self.Bot.rect.y = self.BALL.rect.y - WIDTH*0.02\n",
    "\n",
    "            # Reflect the ball if touches to Bot paddle\n",
    "        if self.Bot.rect.colliderect(self.BALL.rect):\n",
    "            self.BALL.Xspeed *= -1\n",
    "        \n",
    "            # Check if the ball makes contact with any of the four flanks\n",
    "        if self.BALL.clip():\n",
    "            \n",
    "            self.done = True\n",
    "            self.reward -= 30\n",
    "            return self.observation, self.reward, self.done, self.info\n",
    "\n",
    "            # Reflecting the ball upon contact with the paddle\n",
    "        if self.Agent.rect.colliderect(self.BALL.rect): \n",
    "            self.BALL.Xspeed *= -1\n",
    "            self.reward += 30\n",
    "\n",
    "            # Giving the Score if the distance between ball and paddle is less than Ball's size\n",
    "        if self.Distance_Between_Paddle_Ball() < self.current_distance:\n",
    "            self.reward += 0.1\n",
    "       \n",
    "            \n",
    "            # +Score if Ball between middle of Agent paddle\n",
    "        if self.Agent.rect.bottom > self.BALL.rect.y > self.Agent.rect.y:\n",
    "            self.reward += 1\n",
    "            #if self.BALL.rect.top - paddle_Y/2 >= self.Agent.rect.top \n",
    "        \n",
    "        \"\"\"\n",
    "        #Agressive Learning\n",
    "        # Giving No score and finish the round if the ball gets away\n",
    "        if self.BALL.Xspeed < 0 and self.Distance_Between_Paddle_Ball() > self.current_distance:\n",
    "            self.reward = 0\n",
    "            self.done = True\n",
    "            \n",
    "        \"\"\"\n",
    "\n",
    "            #Update current distance between paddle and the ball\n",
    "        self.current_distance = self.Distance_Between_Paddle_Ball()\n",
    "\n",
    "            #Update observation \n",
    "        self.observation = self.get_observation()\n",
    "\n",
    "        return self.observation, self.reward, self.done, self.info        \n",
    "        \n",
    "        \n",
    "    def reset(self):\n",
    "        \n",
    "        self.done = False\n",
    "        self.reward = 0\n",
    "        \n",
    "        self.Agent.rect.x = WIDTH*0.02\n",
    "        self.Agent.rect.y = random.randint(0,HEIGHT/10)*10 \n",
    "        \n",
    "        self.Bot.rect.x = WIDTH*0.95 \n",
    "        self.Bot.rect.y =  random.randint(0,HEIGHT/10)*10\n",
    "        \n",
    "        self.BALL.rect.x = WIDTH*0.5\n",
    "        self.BALL.rect.y = HEIGHT*0.25 + random.randint(0, int(HEIGHT*0.4))\n",
    "        \n",
    "        self.BALL.Xspeed = random.sample([-self.BALL.Xspeed,self.BALL.Xspeed],1)[0]\n",
    "        self.BALL.Yspeed = random.sample([-self.BALL.Yspeed,self.BALL.Yspeed],1)[0]\n",
    "        \n",
    "        self.current_distance = self.Distance_Between_Paddle_Ball()\n",
    "        \n",
    "        return self.get_observation()\n",
    "       \n",
    "    def render(self):\n",
    "        \n",
    "        self.screen.fill(black)\n",
    "        self.all_sprites.draw(self.screen)\n",
    "        \n",
    "        for event in pygame.event.get():\n",
    "            if event.type == pygame.QUIT:\n",
    "                pygame.display.quit()\n",
    "                pygame.quit()\n",
    "            \n",
    "        pygame.display.update()\n",
    "        #pygame.time.delay(15)\n",
    "        \n",
    "    def get_observation(self):\n",
    "        \n",
    "        return np.array([\n",
    "                      self.current_distance, \n",
    "                      self.Agent.rect.y, \n",
    "                      self.BALL.rect.x, \n",
    "                      self.BALL.rect.y, \n",
    "                      self.BALL.Xspeed, \n",
    "                      self.BALL.Yspeed])\n",
    "    \n",
    "        \n",
    "    def Distance_Between_Paddle_Ball(self):\n",
    "        return np.linalg.norm(np.array([self.Agent.rect.x, self.Agent.rect.y + MIDDLE]) - np.array([self.BALL.rect.x,self.BALL.rect.y]))\n",
    "  \n",
    "    def close (self):\n",
    "        if self.screen is not None:\n",
    "            pygame.display.quit()\n",
    "            pygame.quit()"
   ]
  },
  {
   "cell_type": "markdown",
   "id": "cd5f1e67-d9a5-446c-ba43-c4437b46df17",
   "metadata": {},
   "source": [
    "TEST THE ENVIRONMENT ↓"
   ]
  },
  {
   "cell_type": "code",
   "execution_count": null,
   "id": "8148abd7-6ace-4eaf-8722-5c256c77eba0",
   "metadata": {},
   "outputs": [],
   "source": [
    "env = PongEnv()\n",
    "\n",
    "episode = 10\n",
    "level = 0\n",
    "\n",
    "for i in range(1, episode):\n",
    "    state = env.reset()\n",
    "    done = False\n",
    "    score = 0\n",
    "    \n",
    "    while not done:\n",
    "    \n",
    "        env.render()\n",
    "        action = env.action_space.sample()\n",
    "        n_state, reward, done, info = env.step(action)\n",
    "        score += reward\n",
    "        \n",
    "    print('Episode: {} Score:{:.2f}'.format(i, score))\n",
    "\n",
    "pygame.display.quit()\n",
    "pygame.quit()"
   ]
  },
  {
   "cell_type": "markdown",
   "id": "c8f004d2-766c-4182-b835-2232f277f69a",
   "metadata": {},
   "source": [
    "TRAIN THE AGENT ↓"
   ]
  },
  {
   "cell_type": "code",
   "execution_count": null,
   "id": "4135c940-89f6-45ae-aa6c-05fb5114a79d",
   "metadata": {},
   "outputs": [],
   "source": [
    "from stable_baselines3 import PPO, A2C, DQN\n",
    "import traceback\n",
    "import sys\n",
    "\n",
    "env = PongEnv()\n",
    "\n",
    "try:\n",
    "    #model = A2C('MlpPolicy',env, learning_rate=0.0004, gamma=0.99, gae_lambda=0.95, max_grad_norm=0.5, verbose=0)\n",
    "    model = PPO('MlpPolicy',env, learning_rate=0.0004, ent_coef=0.01, gamma=0.99, gae_lambda=0.95, max_grad_norm=0.5, verbose=0, tensorboard_log = \"./DronLog/\")\n",
    "    \n",
    "    model.learn(total_timesteps=500000, callback=None, log_interval=1, tb_log_name='PPO', reset_num_timesteps=True, progress_bar=False)\n",
    "    \n",
    "except Exception as e:\n",
    "    exc_type, exc_obj, tb = sys.exc_info()\n",
    "    line_number = tb.tb_lineno\n",
    "    print(\"Error!\", line_number,\"th line\")\n",
    "    traceback.print_exc()\n",
    "    pygame.quit()  "
   ]
  },
  {
   "cell_type": "markdown",
   "id": "2962753d-fcd5-49ad-93b5-345a0dc59eef",
   "metadata": {
    "tags": []
   },
   "source": [
    "SAVE THE MODEL ↓"
   ]
  },
  {
   "cell_type": "code",
   "execution_count": null,
   "id": "7cbb769a-0ee3-4edf-ae7c-bbe3dc1a57b2",
   "metadata": {
    "tags": []
   },
   "outputs": [],
   "source": [
    "try:\n",
    "    path = os.path.join('./Models/Saved_Model.zip')\n",
    "    model.save(path)\n",
    "    \n",
    "except Exception as e:\n",
    "    exc_type, exc_obj, tb = sys.exc_info()\n",
    "    line_number = tb.tb_lineno\n",
    "    print(\"Error!\", line_number,\"th line\")\n",
    "    traceback.print_exc()"
   ]
  },
  {
   "cell_type": "markdown",
   "id": "93d776b0-444a-452d-b553-5acc970d799e",
   "metadata": {
    "tags": []
   },
   "source": [
    "LOAD THE MODEL ↓"
   ]
  },
  {
   "cell_type": "code",
   "execution_count": null,
   "id": "b42698ef-6f87-4512-a49f-df49d5b78286",
   "metadata": {},
   "outputs": [],
   "source": [
    "model_path = \"models/200k.zğp\"\n",
    "model = PPO.load(model_path, env=env)"
   ]
  },
  {
   "cell_type": "markdown",
   "id": "0d3bf4a5-aa94-4c03-94e4-9bd263702392",
   "metadata": {},
   "source": [
    "EVALUATE MODEL"
   ]
  },
  {
   "cell_type": "code",
   "execution_count": null,
   "id": "33519ca1-c198-47c9-a327-648d5544e1d6",
   "metadata": {},
   "outputs": [],
   "source": [
    "from stable_baselines3.common.evaluation import evaluate_policy\n",
    "\n",
    "eval_episodes = 10\n",
    "\n",
    "evaluate_policy(model, \n",
    "                env, \n",
    "                n_eval_episodes = eval_episodes)"
   ]
  },
  {
   "cell_type": "code",
   "execution_count": null,
   "id": "ac973f3c-37d9-4a8e-8d09-a07fe111dc1b",
   "metadata": {},
   "outputs": [],
   "source": []
  },
  {
   "cell_type": "code",
   "execution_count": null,
   "id": "d223f803-2a07-4ac3-9b24-e3731b127e34",
   "metadata": {},
   "outputs": [],
   "source": []
  },
  {
   "cell_type": "code",
   "execution_count": null,
   "id": "790f903f-3478-4125-b5f1-6a0259db5546",
   "metadata": {},
   "outputs": [],
   "source": []
  },
  {
   "cell_type": "code",
   "execution_count": 10,
   "id": "82f049c3-c9c3-4e8f-ae99-07fa56afd1af",
   "metadata": {
    "tags": []
   },
   "outputs": [],
   "source": []
  },
  {
   "cell_type": "code",
   "execution_count": null,
   "id": "2821dbb2-1ed2-44aa-8dc0-8de53b0c402d",
   "metadata": {},
   "outputs": [],
   "source": []
  }
 ],
 "metadata": {
  "kernelspec": {
   "display_name": "mech",
   "language": "python",
   "name": "mech"
  },
  "language_info": {
   "codemirror_mode": {
    "name": "ipython",
    "version": 3
   },
   "file_extension": ".py",
   "mimetype": "text/x-python",
   "name": "python",
   "nbconvert_exporter": "python",
   "pygments_lexer": "ipython3",
   "version": "3.8.0"
  }
 },
 "nbformat": 4,
 "nbformat_minor": 5
}
